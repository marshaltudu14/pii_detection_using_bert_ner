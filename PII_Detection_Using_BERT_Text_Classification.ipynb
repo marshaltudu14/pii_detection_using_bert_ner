{
  "metadata": {
    "kernelspec": {
      "display_name": "Python 3",
      "name": "python3"
    },
    "language_info": {
      "name": "python",
      "version": "3.10.13",
      "mimetype": "text/x-python",
      "codemirror_mode": {
        "name": "ipython",
        "version": 3
      },
      "pygments_lexer": "ipython3",
      "nbconvert_exporter": "python",
      "file_extension": ".py"
    },
    "kaggle": {
      "accelerator": "nvidiaTeslaT4",
      "dataSources": [
        {
          "sourceId": 66653,
          "databundleVersionId": 7500999,
          "sourceType": "competition"
        },
        {
          "sourceId": 7466758,
          "sourceType": "datasetVersion",
          "datasetId": 4332496
        },
        {
          "sourceId": 7632601,
          "sourceType": "datasetVersion",
          "datasetId": 4447533
        },
        {
          "sourceId": 7675937,
          "sourceType": "datasetVersion",
          "datasetId": 4477614
        },
        {
          "sourceId": 7681253,
          "sourceType": "datasetVersion",
          "datasetId": 934701
        },
        {
          "sourceId": 7682478,
          "sourceType": "datasetVersion",
          "datasetId": 4482348
        },
        {
          "sourceId": 7683502,
          "sourceType": "datasetVersion",
          "datasetId": 4483099
        }
      ],
      "dockerImageVersionId": 30648,
      "isInternetEnabled": false,
      "language": "python",
      "sourceType": "notebook",
      "isGpuEnabled": true
    },
    "colab": {
      "provenance": [],
      "gpuType": "T4"
    },
    "accelerator": "GPU"
  },
  "nbformat_minor": 0,
  "nbformat": 4,
  "cells": [
    {
      "cell_type": "code",
      "source": [
        "from google.colab import drive\n",
        "drive.mount('/content/drive')"
      ],
      "metadata": {
        "id": "hsUeLHGrW0t5",
        "outputId": "742bc292-6e32-4768-ab40-4e05f6544ced",
        "colab": {
          "base_uri": "https://localhost:8080/"
        }
      },
      "execution_count": 18,
      "outputs": [
        {
          "output_type": "stream",
          "name": "stdout",
          "text": [
            "Drive already mounted at /content/drive; to attempt to forcibly remount, call drive.mount(\"/content/drive\", force_remount=True).\n"
          ]
        }
      ]
    },
    {
      "cell_type": "code",
      "source": [
        "import pandas as pd\n",
        "from transformers import BertTokenizerFast, BertForTokenClassification\n",
        "from sklearn.model_selection import train_test_split\n",
        "\n",
        "train_df = pd.read_json(\"/content/drive/MyDrive/Colab Notebooks/pii_detection_ner_bert/train.json\")\n",
        "\n",
        "train_df.head()"
      ],
      "metadata": {
        "execution": {
          "iopub.status.busy": "2024-02-23T07:28:38.299027Z",
          "iopub.execute_input": "2024-02-23T07:28:38.299311Z",
          "iopub.status.idle": "2024-02-23T07:28:39.923628Z",
          "shell.execute_reply.started": "2024-02-23T07:28:38.299279Z",
          "shell.execute_reply": "2024-02-23T07:28:39.922611Z"
        },
        "trusted": true,
        "id": "3QDfxaXLWGtY"
      },
      "execution_count": null,
      "outputs": []
    },
    {
      "cell_type": "code",
      "source": [
        "train_df['tokens_len'] = train_df['tokens'].apply(lambda x: len(x))\n",
        "train_df['labels_len'] = train_df['labels'].apply(lambda x: len(x))\n",
        "\n",
        "train_df"
      ],
      "metadata": {
        "execution": {
          "iopub.status.busy": "2024-02-23T07:28:39.925871Z",
          "iopub.execute_input": "2024-02-23T07:28:39.926204Z",
          "iopub.status.idle": "2024-02-23T07:28:39.980832Z",
          "shell.execute_reply.started": "2024-02-23T07:28:39.926178Z",
          "shell.execute_reply": "2024-02-23T07:28:39.979951Z"
        },
        "trusted": true,
        "id": "JQLHHCGpWGtY"
      },
      "execution_count": null,
      "outputs": []
    },
    {
      "cell_type": "code",
      "source": [
        "train_df.query('tokens_len != labels_len')"
      ],
      "metadata": {
        "execution": {
          "iopub.status.busy": "2024-02-23T07:28:39.981756Z",
          "iopub.execute_input": "2024-02-23T07:28:39.982049Z",
          "iopub.status.idle": "2024-02-23T07:28:39.993331Z",
          "shell.execute_reply.started": "2024-02-23T07:28:39.982025Z",
          "shell.execute_reply": "2024-02-23T07:28:39.992337Z"
        },
        "trusted": true,
        "id": "UHZ7_7-PWGtZ"
      },
      "execution_count": null,
      "outputs": []
    },
    {
      "cell_type": "code",
      "source": [
        "feature_count = train_df['labels'].apply(pd.Series).stack().value_counts()\n",
        "\n",
        "feature_count"
      ],
      "metadata": {
        "execution": {
          "iopub.status.busy": "2024-02-23T07:28:39.994712Z",
          "iopub.execute_input": "2024-02-23T07:28:39.995079Z",
          "iopub.status.idle": "2024-02-23T07:28:48.52185Z",
          "shell.execute_reply.started": "2024-02-23T07:28:39.995047Z",
          "shell.execute_reply": "2024-02-23T07:28:48.520979Z"
        },
        "trusted": true,
        "id": "Zn2hPT3nWGtZ"
      },
      "execution_count": null,
      "outputs": []
    },
    {
      "cell_type": "code",
      "source": [
        "feature_names = feature_count.index.tolist()\n",
        "\n",
        "feature_names"
      ],
      "metadata": {
        "execution": {
          "iopub.status.busy": "2024-02-23T07:28:48.52304Z",
          "iopub.execute_input": "2024-02-23T07:28:48.523333Z",
          "iopub.status.idle": "2024-02-23T07:28:48.529236Z",
          "shell.execute_reply.started": "2024-02-23T07:28:48.523308Z",
          "shell.execute_reply": "2024-02-23T07:28:48.528332Z"
        },
        "trusted": true,
        "id": "YGocCF9cWGtZ"
      },
      "execution_count": null,
      "outputs": []
    },
    {
      "cell_type": "code",
      "source": [
        "label_mapping = {\n",
        "    'O': 0,\n",
        "    'B-NAME_STUDENT': 1,\n",
        "    'I-NAME_STUDENT': 2,\n",
        "    'B-URL_PERSONAL': 3,\n",
        "    'B-ID_NUM': 4,\n",
        "    'B-EMAIL': 5,\n",
        "    'I-STREET_ADDRESS': 6,\n",
        "    'I-PHONE_NUM': 7,\n",
        "    'B-USERNAME': 8,\n",
        "    'B-PHONE_NUM': 9,\n",
        "    'B-STREET_ADDRESS': 10,\n",
        "    'I-URL_PERSONAL': 11,\n",
        "    'I-ID_NUM': 12\n",
        "}\n",
        "\n",
        "train_df['label_ids'] = train_df.labels.apply(lambda labels: [label_mapping[label] for label in labels])\n",
        "\n",
        "train_df"
      ],
      "metadata": {
        "execution": {
          "iopub.status.busy": "2024-02-23T07:28:48.530298Z",
          "iopub.execute_input": "2024-02-23T07:28:48.530589Z",
          "iopub.status.idle": "2024-02-23T07:28:48.920147Z",
          "shell.execute_reply.started": "2024-02-23T07:28:48.530565Z",
          "shell.execute_reply": "2024-02-23T07:28:48.919245Z"
        },
        "trusted": true,
        "id": "9nMImLoVWGta"
      },
      "execution_count": null,
      "outputs": []
    },
    {
      "cell_type": "code",
      "source": [
        "model_name = \"bert-base-uncased\"\n",
        "\n",
        "tokenizer = BertTokenizerFast.from_pretrained(model_name)\n",
        "\n",
        "tokenizer"
      ],
      "metadata": {
        "execution": {
          "iopub.status.busy": "2024-02-23T07:28:48.923538Z",
          "iopub.execute_input": "2024-02-23T07:28:48.92383Z",
          "iopub.status.idle": "2024-02-23T07:28:48.978206Z",
          "shell.execute_reply.started": "2024-02-23T07:28:48.923806Z",
          "shell.execute_reply": "2024-02-23T07:28:48.977291Z"
        },
        "trusted": true,
        "id": "BOj8ZHX0WGta"
      },
      "execution_count": null,
      "outputs": []
    },
    {
      "cell_type": "code",
      "source": [
        "tokenizer.model_max_length"
      ],
      "metadata": {
        "execution": {
          "iopub.status.busy": "2024-02-23T07:28:48.979246Z",
          "iopub.execute_input": "2024-02-23T07:28:48.979527Z",
          "iopub.status.idle": "2024-02-23T07:28:48.985035Z",
          "shell.execute_reply.started": "2024-02-23T07:28:48.979503Z",
          "shell.execute_reply": "2024-02-23T07:28:48.984156Z"
        },
        "trusted": true,
        "id": "HthbV7cgWGta"
      },
      "execution_count": null,
      "outputs": []
    },
    {
      "cell_type": "code",
      "source": [
        "model_max_length = tokenizer.model_max_length\n",
        "\n",
        "window_size = model_max_length\n",
        "overlap = model_max_length / 4\n",
        "\n",
        "split_tokens = []\n",
        "split_label_ids = []\n",
        "split_document_ids = []\n",
        "\n",
        "for index, row in train_df.iterrows():\n",
        "    tokens = row['tokens']\n",
        "    label_ids = row['label_ids']\n",
        "    document_id = row['document']\n",
        "\n",
        "    for i in range(0, len(tokens), window_size):\n",
        "        split_tokens.append(tokens[i:i+window_size])\n",
        "        split_label_ids.append(label_ids[i:i+window_size])\n",
        "        split_document_ids.append(document_id)\n",
        "\n",
        "split_token_label_df = pd.DataFrame({\n",
        "    'document': split_document_ids,\n",
        "    'tokens': split_tokens,\n",
        "    'label_ids': split_label_ids\n",
        "})\n",
        "\n",
        "split_token_label_df"
      ],
      "metadata": {
        "execution": {
          "iopub.status.busy": "2024-02-23T07:28:48.986125Z",
          "iopub.execute_input": "2024-02-23T07:28:48.986386Z",
          "iopub.status.idle": "2024-02-23T07:28:49.775075Z",
          "shell.execute_reply.started": "2024-02-23T07:28:48.986364Z",
          "shell.execute_reply": "2024-02-23T07:28:49.774101Z"
        },
        "trusted": true,
        "id": "XmW9BNfVWGta"
      },
      "execution_count": null,
      "outputs": []
    },
    {
      "cell_type": "code",
      "source": [
        "print(split_token_label_df['tokens'][0])"
      ],
      "metadata": {
        "execution": {
          "iopub.status.busy": "2024-02-23T07:28:49.776472Z",
          "iopub.execute_input": "2024-02-23T07:28:49.777137Z",
          "iopub.status.idle": "2024-02-23T07:28:49.782478Z",
          "shell.execute_reply.started": "2024-02-23T07:28:49.777103Z",
          "shell.execute_reply": "2024-02-23T07:28:49.781526Z"
        },
        "trusted": true,
        "id": "1T7vFCeXWGtb"
      },
      "execution_count": null,
      "outputs": []
    },
    {
      "cell_type": "code",
      "source": [
        "max_seq_length = split_token_label_df['tokens'].apply(lambda x: len(x)).max()\n",
        "\n",
        "tokenized_input = split_token_label_df['tokens'].apply(lambda tokens: tokenizer(tokens, max_length=max_seq_length, padding='max_length', truncation=True, is_split_into_words=True))\n",
        "\n",
        "tokenized_input"
      ],
      "metadata": {
        "execution": {
          "iopub.status.busy": "2024-02-23T07:28:49.783812Z",
          "iopub.execute_input": "2024-02-23T07:28:49.784374Z",
          "iopub.status.idle": "2024-02-23T07:29:25.229474Z",
          "shell.execute_reply.started": "2024-02-23T07:28:49.784337Z",
          "shell.execute_reply": "2024-02-23T07:29:25.228431Z"
        },
        "trusted": true,
        "id": "vmZ83yCzWGtb"
      },
      "execution_count": null,
      "outputs": []
    },
    {
      "cell_type": "code",
      "source": [
        "tokenized_input[0].keys()"
      ],
      "metadata": {
        "execution": {
          "iopub.status.busy": "2024-02-23T07:29:25.230606Z",
          "iopub.execute_input": "2024-02-23T07:29:25.230897Z",
          "iopub.status.idle": "2024-02-23T07:29:25.236672Z",
          "shell.execute_reply.started": "2024-02-23T07:29:25.230872Z",
          "shell.execute_reply": "2024-02-23T07:29:25.235745Z"
        },
        "trusted": true,
        "id": "rEdI29wwWGtb"
      },
      "execution_count": null,
      "outputs": []
    },
    {
      "cell_type": "code",
      "source": [
        "print(tokenized_input[0]['input_ids'])"
      ],
      "metadata": {
        "execution": {
          "iopub.status.busy": "2024-02-23T07:29:25.238049Z",
          "iopub.execute_input": "2024-02-23T07:29:25.238861Z",
          "iopub.status.idle": "2024-02-23T07:29:25.24752Z",
          "shell.execute_reply.started": "2024-02-23T07:29:25.238834Z",
          "shell.execute_reply": "2024-02-23T07:29:25.246759Z"
        },
        "trusted": true,
        "id": "cgFLV7aBWGtb"
      },
      "execution_count": null,
      "outputs": []
    },
    {
      "cell_type": "code",
      "source": [
        "print(tokenized_input[0].tokens())"
      ],
      "metadata": {
        "execution": {
          "iopub.status.busy": "2024-02-23T07:29:25.248853Z",
          "iopub.execute_input": "2024-02-23T07:29:25.249778Z",
          "iopub.status.idle": "2024-02-23T07:29:25.258744Z",
          "shell.execute_reply.started": "2024-02-23T07:29:25.249742Z",
          "shell.execute_reply": "2024-02-23T07:29:25.257843Z"
        },
        "trusted": true,
        "id": "Bba2oyFmWGtb"
      },
      "execution_count": null,
      "outputs": []
    },
    {
      "cell_type": "code",
      "source": [
        "print(tokenized_input[0].word_ids())"
      ],
      "metadata": {
        "execution": {
          "iopub.status.busy": "2024-02-23T07:29:25.260003Z",
          "iopub.execute_input": "2024-02-23T07:29:25.260275Z",
          "iopub.status.idle": "2024-02-23T07:29:25.267947Z",
          "shell.execute_reply.started": "2024-02-23T07:29:25.260252Z",
          "shell.execute_reply": "2024-02-23T07:29:25.267071Z"
        },
        "trusted": true,
        "id": "6ibFvLZuWGtb"
      },
      "execution_count": null,
      "outputs": []
    },
    {
      "cell_type": "code",
      "source": [
        "tokenized_word_ids = tokenized_input.apply(lambda x: x.word_ids())\n",
        "\n",
        "tokenized_word_ids"
      ],
      "metadata": {
        "execution": {
          "iopub.status.busy": "2024-02-23T07:29:25.269083Z",
          "iopub.execute_input": "2024-02-23T07:29:25.269356Z",
          "iopub.status.idle": "2024-02-23T07:29:25.535942Z",
          "shell.execute_reply.started": "2024-02-23T07:29:25.269333Z",
          "shell.execute_reply": "2024-02-23T07:29:25.535028Z"
        },
        "trusted": true,
        "id": "HArTJDPmWGtb"
      },
      "execution_count": null,
      "outputs": []
    },
    {
      "cell_type": "code",
      "source": [
        "def align_labels_with_tokens(labels, word_ids):\n",
        "    new_labels = []\n",
        "    current_word = None\n",
        "    for word_id in word_ids:\n",
        "        if word_id is None:\n",
        "            new_labels.append(-100)\n",
        "        elif word_id != current_word:\n",
        "            label = -100 if word_id is None else labels[word_id]\n",
        "            new_labels.append(label)\n",
        "            current_word = word_id\n",
        "        else:\n",
        "            label = labels[word_id]\n",
        "            new_labels.append(label)\n",
        "\n",
        "    return new_labels\n",
        "\n",
        "split_token_label_df['aligned_label_ids'] = split_token_label_df.apply(lambda row: align_labels_with_tokens(row['label_ids'], tokenized_word_ids.loc[row.name]), axis=1)\n",
        "\n",
        "split_token_label_df"
      ],
      "metadata": {
        "execution": {
          "iopub.status.busy": "2024-02-23T07:29:25.536938Z",
          "iopub.execute_input": "2024-02-23T07:29:25.53721Z",
          "iopub.status.idle": "2024-02-23T07:29:27.440974Z",
          "shell.execute_reply.started": "2024-02-23T07:29:25.537188Z",
          "shell.execute_reply": "2024-02-23T07:29:27.44011Z"
        },
        "trusted": true,
        "id": "JBqfDfm7WGtb"
      },
      "execution_count": null,
      "outputs": []
    },
    {
      "cell_type": "code",
      "source": [
        "for token, label in zip(tokenizer.convert_ids_to_tokens(tokenized_input[0]['input_ids']), split_token_label_df['aligned_label_ids'][0]):\n",
        "    print(f\"{token} {label}\")"
      ],
      "metadata": {
        "execution": {
          "iopub.status.busy": "2024-02-23T07:29:27.442278Z",
          "iopub.execute_input": "2024-02-23T07:29:27.442568Z",
          "iopub.status.idle": "2024-02-23T07:29:27.451444Z",
          "shell.execute_reply.started": "2024-02-23T07:29:27.442543Z",
          "shell.execute_reply": "2024-02-23T07:29:27.450441Z"
        },
        "trusted": true,
        "id": "miFZD_kAWGtb"
      },
      "execution_count": null,
      "outputs": []
    },
    {
      "cell_type": "code",
      "source": [
        "split_token_label_df['input_ids'] = tokenized_input.apply(lambda x: x['input_ids'])\n",
        "split_token_label_df['token_type_ids'] = tokenized_input.apply(lambda x: x['token_type_ids'])\n",
        "split_token_label_df['attention_mask'] = tokenized_input.apply(lambda x: x['attention_mask'])\n",
        "\n",
        "split_token_label_df"
      ],
      "metadata": {
        "execution": {
          "iopub.status.busy": "2024-02-23T07:29:27.45251Z",
          "iopub.execute_input": "2024-02-23T07:29:27.452747Z",
          "iopub.status.idle": "2024-02-23T07:29:27.561617Z",
          "shell.execute_reply.started": "2024-02-23T07:29:27.452726Z",
          "shell.execute_reply": "2024-02-23T07:29:27.560731Z"
        },
        "trusted": true,
        "id": "Mvlz8MZoWGtb"
      },
      "execution_count": null,
      "outputs": []
    },
    {
      "cell_type": "code",
      "source": [
        "columns_to_copy = ['input_ids', 'token_type_ids', 'attention_mask', 'aligned_label_ids']\n",
        "\n",
        "token_df = pd.DataFrame(split_token_label_df[columns_to_copy])\n",
        "token_df.rename(columns={'aligned_label_ids': 'labels'}, inplace=True)\n",
        "\n",
        "token_df"
      ],
      "metadata": {
        "execution": {
          "iopub.status.busy": "2024-02-23T07:29:27.562832Z",
          "iopub.execute_input": "2024-02-23T07:29:27.563231Z",
          "iopub.status.idle": "2024-02-23T07:29:27.622684Z",
          "shell.execute_reply.started": "2024-02-23T07:29:27.563206Z",
          "shell.execute_reply": "2024-02-23T07:29:27.621771Z"
        },
        "trusted": true,
        "id": "bbmVdlziWGtb"
      },
      "execution_count": null,
      "outputs": []
    },
    {
      "cell_type": "code",
      "source": [
        "train_dataset, test_dataset = train_test_split(token_df, test_size=0.3, random_state=42)\n",
        "validation_dataset, test_dataset = train_test_split(test_dataset, test_size=0.5, random_state=42)"
      ],
      "metadata": {
        "execution": {
          "iopub.status.busy": "2024-02-23T07:29:27.623766Z",
          "iopub.execute_input": "2024-02-23T07:29:27.624048Z",
          "iopub.status.idle": "2024-02-23T07:29:27.637209Z",
          "shell.execute_reply.started": "2024-02-23T07:29:27.624024Z",
          "shell.execute_reply": "2024-02-23T07:29:27.636304Z"
        },
        "trusted": true,
        "id": "QTtJ-B6gWGtb"
      },
      "execution_count": null,
      "outputs": []
    },
    {
      "cell_type": "code",
      "source": [
        "len(train_dataset), len(validation_dataset), len(test_dataset)"
      ],
      "metadata": {
        "execution": {
          "iopub.status.busy": "2024-02-23T07:29:27.64213Z",
          "iopub.execute_input": "2024-02-23T07:29:27.642677Z",
          "iopub.status.idle": "2024-02-23T07:29:27.648531Z",
          "shell.execute_reply.started": "2024-02-23T07:29:27.64265Z",
          "shell.execute_reply": "2024-02-23T07:29:27.647529Z"
        },
        "trusted": true,
        "id": "elUzhtgNWGtc"
      },
      "execution_count": null,
      "outputs": []
    },
    {
      "cell_type": "code",
      "source": [
        "from datasets import Dataset, DatasetDict\n",
        "\n",
        "features = ['input_ids', 'token_type_ids', 'attention_mask', 'labels']\n",
        "\n",
        "final_dataset = DatasetDict({\n",
        "    'train': Dataset.from_pandas(train_dataset[features]),\n",
        "    'validation': Dataset.from_pandas(validation_dataset[features]),\n",
        "    'test': Dataset.from_pandas(test_dataset[features]),\n",
        "})\n",
        "\n",
        "final_dataset"
      ],
      "metadata": {
        "execution": {
          "iopub.status.busy": "2024-02-23T07:29:27.649505Z",
          "iopub.execute_input": "2024-02-23T07:29:27.649749Z",
          "iopub.status.idle": "2024-02-23T07:29:29.909329Z",
          "shell.execute_reply.started": "2024-02-23T07:29:27.649728Z",
          "shell.execute_reply": "2024-02-23T07:29:29.908336Z"
        },
        "trusted": true,
        "id": "CUmdJcsOWGtc"
      },
      "execution_count": null,
      "outputs": []
    },
    {
      "cell_type": "code",
      "source": [
        "from transformers import DataCollatorForTokenClassification\n",
        "\n",
        "data_collator = DataCollatorForTokenClassification(tokenizer=tokenizer)"
      ],
      "metadata": {
        "execution": {
          "iopub.status.busy": "2024-02-23T07:29:29.910369Z",
          "iopub.execute_input": "2024-02-23T07:29:29.910633Z",
          "iopub.status.idle": "2024-02-23T07:29:29.914936Z",
          "shell.execute_reply.started": "2024-02-23T07:29:29.91061Z",
          "shell.execute_reply": "2024-02-23T07:29:29.914058Z"
        },
        "trusted": true,
        "id": "s2kd-u_cWGtc"
      },
      "execution_count": null,
      "outputs": []
    },
    {
      "cell_type": "code",
      "source": [
        "batch = data_collator([final_dataset['train'][i] for i in range(20)])\n",
        "\n",
        "batch"
      ],
      "metadata": {
        "execution": {
          "iopub.status.busy": "2024-02-23T07:29:29.916124Z",
          "iopub.execute_input": "2024-02-23T07:29:29.916395Z",
          "iopub.status.idle": "2024-02-23T07:29:29.969568Z",
          "shell.execute_reply.started": "2024-02-23T07:29:29.916372Z",
          "shell.execute_reply": "2024-02-23T07:29:29.968699Z"
        },
        "trusted": true,
        "id": "vuRoe86tWGtc"
      },
      "execution_count": null,
      "outputs": []
    },
    {
      "cell_type": "code",
      "source": [
        "!pip install evaluate --no-index --find-links=file:///kaggle/input/module-evaluate/kaggle/working\n",
        "!pip install seqeval --no-index --find-links=file:///kaggle/input/seqeval-whl"
      ],
      "metadata": {
        "execution": {
          "iopub.status.busy": "2024-02-23T07:29:29.970529Z",
          "iopub.execute_input": "2024-02-23T07:29:29.970768Z",
          "iopub.status.idle": "2024-02-23T07:29:54.310167Z",
          "shell.execute_reply.started": "2024-02-23T07:29:29.970746Z",
          "shell.execute_reply": "2024-02-23T07:29:54.308981Z"
        },
        "trusted": true,
        "id": "QE5iyxVLWGtc"
      },
      "execution_count": null,
      "outputs": []
    },
    {
      "cell_type": "code",
      "source": [
        "import evaluate\n",
        "metric = evaluate.load(\"seqeval\")"
      ],
      "metadata": {
        "execution": {
          "iopub.status.busy": "2024-02-23T07:29:54.311673Z",
          "iopub.execute_input": "2024-02-23T07:29:54.312019Z",
          "iopub.status.idle": "2024-02-23T07:29:54.334233Z",
          "shell.execute_reply.started": "2024-02-23T07:29:54.311989Z",
          "shell.execute_reply": "2024-02-23T07:29:54.333358Z"
        },
        "trusted": true,
        "id": "rdohRHPrWGtc"
      },
      "execution_count": null,
      "outputs": []
    },
    {
      "cell_type": "code",
      "source": [
        "import numpy as np\n",
        "\n",
        "def compute_metrics(eval_preds):\n",
        "    logits, labels = eval_preds\n",
        "    predictions = np.argmax(logits, axis=-1)\n",
        "\n",
        "    true_labels = [[feature_names[l] for l in label if l!=-100] for label in labels]\n",
        "    true_predictions = [[feature_names[p] for p, l in zip(prediction, label) if l!=-100] for prediction, label in zip(predictions, labels)]\n",
        "\n",
        "    all_metrics = metric.compute(predictions=true_predictions, references=true_labels)\n",
        "\n",
        "    return {\"precision\": all_metrics['overall_precision'],\n",
        "           \"recall\": all_metrics['overall_recall'],\n",
        "           \"f1\": all_metrics['overall_f1'],\n",
        "           \"accuracy\": all_metrics['overall_accuracy']}"
      ],
      "metadata": {
        "execution": {
          "iopub.status.busy": "2024-02-23T07:29:54.335545Z",
          "iopub.execute_input": "2024-02-23T07:29:54.335884Z",
          "iopub.status.idle": "2024-02-23T07:29:54.34476Z",
          "shell.execute_reply.started": "2024-02-23T07:29:54.335853Z",
          "shell.execute_reply": "2024-02-23T07:29:54.343833Z"
        },
        "trusted": true,
        "id": "hmQLserBWGtc"
      },
      "execution_count": null,
      "outputs": []
    },
    {
      "cell_type": "code",
      "source": [
        "bert_model = BertForTokenClassification.from_pretrained(model_name, num_labels=len(feature_count))\n",
        "\n",
        "bert_model.config.num_labels"
      ],
      "metadata": {
        "execution": {
          "iopub.status.busy": "2024-02-23T07:29:54.345939Z",
          "iopub.execute_input": "2024-02-23T07:29:54.346271Z",
          "iopub.status.idle": "2024-02-23T07:29:57.282872Z",
          "shell.execute_reply.started": "2024-02-23T07:29:54.34624Z",
          "shell.execute_reply": "2024-02-23T07:29:57.281963Z"
        },
        "trusted": true,
        "id": "Dvs2Gr78WGtd"
      },
      "execution_count": null,
      "outputs": []
    },
    {
      "cell_type": "code",
      "source": [
        "from transformers import TrainingArguments\n",
        "\n",
        "output_directory = \"/content/drive/MyDrive/Colab Notebooks/PII Detection using NER BERT\"\n",
        "\n",
        "args = TrainingArguments(output_dir=output_directory,\n",
        "                         evaluation_strategy='epoch',\n",
        "                         save_strategy='epoch',\n",
        "                         learning_rate=2e-5,\n",
        "                         num_train_epochs=3,\n",
        "                         weight_decay=0.01,\n",
        "                        report_to='none',\n",
        "                        save_total_limit=1)"
      ],
      "metadata": {
        "execution": {
          "iopub.status.busy": "2024-02-23T07:29:57.284143Z",
          "iopub.execute_input": "2024-02-23T07:29:57.284469Z",
          "iopub.status.idle": "2024-02-23T07:29:57.290515Z",
          "shell.execute_reply.started": "2024-02-23T07:29:57.284442Z",
          "shell.execute_reply": "2024-02-23T07:29:57.289603Z"
        },
        "trusted": true,
        "id": "mb9isBuDWGtd"
      },
      "execution_count": null,
      "outputs": []
    },
    {
      "cell_type": "code",
      "source": [
        "from transformers import Trainer\n",
        "\n",
        "trainer = Trainer(model=bert_model,\n",
        "                  args=args,\n",
        "                  train_dataset= final_dataset['train'],\n",
        "                  eval_dataset= final_dataset['validation'],\n",
        "                  data_collator=data_collator,\n",
        "                  compute_metrics=compute_metrics,\n",
        "                  tokenizer=tokenizer)\n",
        "\n",
        "trainer.train()"
      ],
      "metadata": {
        "execution": {
          "iopub.status.busy": "2024-02-23T07:29:57.291539Z",
          "iopub.execute_input": "2024-02-23T07:29:57.291808Z",
          "iopub.status.idle": "2024-02-23T07:58:34.480609Z",
          "shell.execute_reply.started": "2024-02-23T07:29:57.291785Z",
          "shell.execute_reply": "2024-02-23T07:58:34.479693Z"
        },
        "trusted": true,
        "id": "FyZinkiyWGtd"
      },
      "execution_count": null,
      "outputs": []
    },
    {
      "cell_type": "code",
      "source": [
        "reverse_label_mapping = {\n",
        "    'LABEL_0': 'O',\n",
        "    'LABEL_1': 'B-NAME_STUDENT',\n",
        "    'LABEL_2': 'I-NAME_STUDENT',\n",
        "    'LABEL_3': 'B-URL_PERSONAL',\n",
        "    'LABEL_4': 'B-ID_NUM',\n",
        "    'LABEL_5': 'B-EMAIL',\n",
        "    'LABEL_6': 'I-STREET_ADDRESS',\n",
        "    'LABEL_7': 'I-PHONE_NUM',\n",
        "    'LABEL_8': 'B-USERNAME',\n",
        "    'LABEL_9': 'B-PHONE_NUM',\n",
        "    'LABEL_10': 'B-STREET_ADDRESS',\n",
        "    'LABEL_11': 'I-URL_PERSONAL',\n",
        "    'LABEL_12': 'I-ID_NUM'\n",
        "}\n"
      ],
      "metadata": {
        "execution": {
          "iopub.status.busy": "2024-02-23T07:58:34.481747Z",
          "iopub.execute_input": "2024-02-23T07:58:34.482059Z",
          "iopub.status.idle": "2024-02-23T07:58:34.487093Z",
          "shell.execute_reply.started": "2024-02-23T07:58:34.482034Z",
          "shell.execute_reply": "2024-02-23T07:58:34.486229Z"
        },
        "trusted": true,
        "id": "AP-EOHPXWGtf"
      },
      "execution_count": null,
      "outputs": []
    },
    {
      "cell_type": "code",
      "source": [
        "test_df = pd.read_json(\"/content/drive/MyDrive/Colab Notebooks/PII Detection using NER BERT/test.json\")\n",
        "\n",
        "test_df.head()"
      ],
      "metadata": {
        "execution": {
          "iopub.status.busy": "2024-02-23T07:58:34.488327Z",
          "iopub.execute_input": "2024-02-23T07:58:34.488587Z",
          "iopub.status.idle": "2024-02-23T07:58:34.533692Z",
          "shell.execute_reply.started": "2024-02-23T07:58:34.488565Z",
          "shell.execute_reply": "2024-02-23T07:58:34.532791Z"
        },
        "trusted": true,
        "id": "L8qkTgkBWGtf"
      },
      "execution_count": null,
      "outputs": []
    },
    {
      "cell_type": "code",
      "source": [
        "len(test_df)"
      ],
      "metadata": {
        "execution": {
          "iopub.status.busy": "2024-02-23T07:58:34.534792Z",
          "iopub.execute_input": "2024-02-23T07:58:34.535386Z",
          "iopub.status.idle": "2024-02-23T07:58:34.540644Z",
          "shell.execute_reply.started": "2024-02-23T07:58:34.535362Z",
          "shell.execute_reply": "2024-02-23T07:58:34.539677Z"
        },
        "trusted": true,
        "id": "bM41UYO8WGtf"
      },
      "execution_count": null,
      "outputs": []
    },
    {
      "cell_type": "code",
      "source": [
        "trainer.state.global_step"
      ],
      "metadata": {
        "execution": {
          "iopub.status.busy": "2024-02-23T07:58:34.54154Z",
          "iopub.execute_input": "2024-02-23T07:58:34.541788Z",
          "iopub.status.idle": "2024-02-23T07:58:34.551307Z",
          "shell.execute_reply.started": "2024-02-23T07:58:34.541765Z",
          "shell.execute_reply": "2024-02-23T07:58:34.550341Z"
        },
        "trusted": true,
        "id": "VxjZ-H0WWGtg"
      },
      "execution_count": null,
      "outputs": []
    },
    {
      "cell_type": "code",
      "source": [
        "last_checkpoint_folder  = f\"/content/drive/MyDrive/Colab Notebooks/PII Detection using NER BERT/checkpoint-{trainer.state.global_step}\"\n",
        "\n",
        "last_checkpoint_folder"
      ],
      "metadata": {
        "execution": {
          "iopub.status.busy": "2024-02-23T07:58:34.552447Z",
          "iopub.execute_input": "2024-02-23T07:58:34.552752Z",
          "iopub.status.idle": "2024-02-23T07:58:34.562171Z",
          "shell.execute_reply.started": "2024-02-23T07:58:34.552728Z",
          "shell.execute_reply": "2024-02-23T07:58:34.561192Z"
        },
        "trusted": true,
        "id": "LctDIBCyWGtg"
      },
      "execution_count": null,
      "outputs": []
    },
    {
      "cell_type": "code",
      "source": [
        "from transformers import pipeline\n",
        "\n",
        "token_classifier = pipeline(\"token-classification\", model=last_checkpoint_folder, aggregation_strategy=\"simple\")"
      ],
      "metadata": {
        "execution": {
          "iopub.status.busy": "2024-02-23T07:58:34.563239Z",
          "iopub.execute_input": "2024-02-23T07:58:34.563513Z",
          "iopub.status.idle": "2024-02-23T07:58:34.906025Z",
          "shell.execute_reply.started": "2024-02-23T07:58:34.563481Z",
          "shell.execute_reply": "2024-02-23T07:58:34.905189Z"
        },
        "trusted": true,
        "id": "G_gYAEfyWGtm"
      },
      "execution_count": null,
      "outputs": []
    },
    {
      "cell_type": "code",
      "source": [
        "test_df['full_text'][0]"
      ],
      "metadata": {
        "execution": {
          "iopub.status.busy": "2024-02-23T07:58:34.907012Z",
          "iopub.execute_input": "2024-02-23T07:58:34.907276Z",
          "iopub.status.idle": "2024-02-23T07:58:34.913735Z",
          "shell.execute_reply.started": "2024-02-23T07:58:34.907253Z",
          "shell.execute_reply": "2024-02-23T07:58:34.912644Z"
        },
        "trusted": true,
        "id": "COwt050nWGtm"
      },
      "execution_count": null,
      "outputs": []
    },
    {
      "cell_type": "code",
      "source": [
        "token_classifier(test_df['full_text'][0])"
      ],
      "metadata": {
        "execution": {
          "iopub.status.busy": "2024-02-23T07:58:34.915114Z",
          "iopub.execute_input": "2024-02-23T07:58:34.915456Z",
          "iopub.status.idle": "2024-02-23T07:58:35.561812Z",
          "shell.execute_reply.started": "2024-02-23T07:58:34.915406Z",
          "shell.execute_reply": "2024-02-23T07:58:35.560824Z"
        },
        "trusted": true,
        "id": "lhJIXzEeWGtm"
      },
      "execution_count": null,
      "outputs": []
    },
    {
      "cell_type": "code",
      "source": [
        "import csv\n",
        "from IPython.display import clear_output\n",
        "\n",
        "file_name = \"submission.csv\"\n",
        "\n",
        "with open(file_name, 'w', newline='') as csv_file:\n",
        "    csv_writer = csv.writer(csv_file)\n",
        "    csv_writer.writerow(['row_id', 'document', 'token', 'label'])\n",
        "\n",
        "    for i in range(len(test_df)):\n",
        "        pii_detection = token_classifier(test_df['full_text'][i])\n",
        "        discovered_positions = []\n",
        "\n",
        "        clear_output(wait=True)\n",
        "        print(f\"Now reading Row: {i}\")\n",
        "\n",
        "        for j in range(len(pii_detection)):\n",
        "            if pii_detection[j]['entity_group'] != 'LABEL_0':\n",
        "                pii_word = pii_detection[j]['word']\n",
        "                pii_entity_group = pii_detection[j]['entity_group']\n",
        "\n",
        "                tokens_list = [token.lower() for token in test_df['tokens'][i]]\n",
        "                token_position = next((index for index, token in enumerate(tokens_list) if token == pii_word and index not in discovered_positions), None)\n",
        "\n",
        "                if token_position is not None:\n",
        "                    discovered_positions.append(token_position)\n",
        "                    token = pii_word\n",
        "                else:\n",
        "                    token = ''\n",
        "\n",
        "                row_id = i\n",
        "                document = test_df['document'][i]\n",
        "                token = token_position\n",
        "                label = reverse_label_mapping[pii_entity_group]\n",
        "\n",
        "                csv_writer.writerow([row_id, document, token, label])\n",
        "\n",
        "                print(f\"Word: {pii_word}, Predicted Label: {reverse_label_mapping[pii_entity_group]}\")\n",
        "\n",
        "    print(\"Finished Reading the Test Data\")"
      ],
      "metadata": {
        "execution": {
          "iopub.status.busy": "2024-02-23T08:17:28.965025Z",
          "iopub.execute_input": "2024-02-23T08:17:28.966003Z",
          "iopub.status.idle": "2024-02-23T08:17:34.117569Z",
          "shell.execute_reply.started": "2024-02-23T08:17:28.965953Z",
          "shell.execute_reply": "2024-02-23T08:17:34.116589Z"
        },
        "trusted": true,
        "id": "Cz3Bc3amWGtm"
      },
      "execution_count": null,
      "outputs": []
    },
    {
      "cell_type": "code",
      "source": [],
      "metadata": {
        "id": "Pc8AJUUMWGtn"
      },
      "execution_count": null,
      "outputs": []
    }
  ]
}